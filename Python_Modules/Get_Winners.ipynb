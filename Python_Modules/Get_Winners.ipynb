{
 "cells": [
  {
   "cell_type": "code",
   "execution_count": 4,
   "id": "284969af-1825-4663-a0dd-652602fe6af3",
   "metadata": {},
   "outputs": [],
   "source": [
    "from sportsipy.nfl.boxscore import Boxscores, Boxscore\n",
    "import pandas as pd"
   ]
  },
  {
   "cell_type": "code",
   "execution_count": 9,
   "id": "a6877ec4-d0b4-4a61-8da1-41d90d3c8a53",
   "metadata": {},
   "outputs": [],
   "source": [
    "def get_week_schedule(week, year):\n",
    "    date_string = str(week) + '-' + str(year)\n",
    "    week_scores = Boxscores(week,year)\n",
    "    week_games_df = pd.DataFrame()\n",
    "    for g in range(len(week_scores.games[date_string])):\n",
    "        game = pd.DataFrame(week_scores.games[date_string][g], index = [0])[['away_name', 'away_abbr','home_name', 'home_abbr','winning_name', 'winning_abbr' ]]\n",
    "        game['week'] = week\n",
    "        week_games_df = pd.concat([week_games_df,game])\n",
    "    return week_games_df"
   ]
  },
  {
   "cell_type": "code",
   "execution_count": 14,
   "id": "29e9ff52-34b6-4aae-a538-6f68b9331ce3",
   "metadata": {},
   "outputs": [
    {
     "data": {
      "text/html": [
       "<div>\n",
       "<style scoped>\n",
       "    .dataframe tbody tr th:only-of-type {\n",
       "        vertical-align: middle;\n",
       "    }\n",
       "\n",
       "    .dataframe tbody tr th {\n",
       "        vertical-align: top;\n",
       "    }\n",
       "\n",
       "    .dataframe thead th {\n",
       "        text-align: right;\n",
       "    }\n",
       "</style>\n",
       "<table border=\"1\" class=\"dataframe\">\n",
       "  <thead>\n",
       "    <tr style=\"text-align: right;\">\n",
       "      <th></th>\n",
       "      <th>away_name</th>\n",
       "      <th>away_abbr</th>\n",
       "      <th>home_name</th>\n",
       "      <th>home_abbr</th>\n",
       "      <th>winning_name</th>\n",
       "      <th>winning_abbr</th>\n",
       "      <th>week</th>\n",
       "    </tr>\n",
       "  </thead>\n",
       "  <tbody>\n",
       "    <tr>\n",
       "      <th>0</th>\n",
       "      <td>Cincinnati Bengals</td>\n",
       "      <td>cin</td>\n",
       "      <td>Tennessee Titans</td>\n",
       "      <td>oti</td>\n",
       "      <td>Cincinnati Bengals</td>\n",
       "      <td>cin</td>\n",
       "      <td>20</td>\n",
       "    </tr>\n",
       "    <tr>\n",
       "      <th>0</th>\n",
       "      <td>San Francisco 49ers</td>\n",
       "      <td>sfo</td>\n",
       "      <td>Green Bay Packers</td>\n",
       "      <td>gnb</td>\n",
       "      <td>San Francisco 49ers</td>\n",
       "      <td>sfo</td>\n",
       "      <td>20</td>\n",
       "    </tr>\n",
       "    <tr>\n",
       "      <th>0</th>\n",
       "      <td>Los Angeles Rams</td>\n",
       "      <td>ram</td>\n",
       "      <td>Tampa Bay Buccaneers</td>\n",
       "      <td>tam</td>\n",
       "      <td>Los Angeles Rams</td>\n",
       "      <td>ram</td>\n",
       "      <td>20</td>\n",
       "    </tr>\n",
       "    <tr>\n",
       "      <th>0</th>\n",
       "      <td>Buffalo Bills</td>\n",
       "      <td>buf</td>\n",
       "      <td>Kansas City Chiefs</td>\n",
       "      <td>kan</td>\n",
       "      <td>Kansas City Chiefs</td>\n",
       "      <td>kan</td>\n",
       "      <td>20</td>\n",
       "    </tr>\n",
       "  </tbody>\n",
       "</table>\n",
       "</div>"
      ],
      "text/plain": [
       "             away_name away_abbr             home_name home_abbr  \\\n",
       "0   Cincinnati Bengals       cin      Tennessee Titans       oti   \n",
       "0  San Francisco 49ers       sfo     Green Bay Packers       gnb   \n",
       "0     Los Angeles Rams       ram  Tampa Bay Buccaneers       tam   \n",
       "0        Buffalo Bills       buf    Kansas City Chiefs       kan   \n",
       "\n",
       "          winning_name winning_abbr  week  \n",
       "0   Cincinnati Bengals          cin    20  \n",
       "0  San Francisco 49ers          sfo    20  \n",
       "0     Los Angeles Rams          ram    20  \n",
       "0   Kansas City Chiefs          kan    20  "
      ]
     },
     "execution_count": 14,
     "metadata": {},
     "output_type": "execute_result"
    }
   ],
   "source": [
    "get_week_schedule(20,2021)"
   ]
  },
  {
   "cell_type": "code",
   "execution_count": null,
   "id": "2a4ae2ad-5272-4385-b9f4-af4db478d861",
   "metadata": {},
   "outputs": [],
   "source": []
  }
 ],
 "metadata": {
  "kernelspec": {
   "display_name": "Python 3",
   "language": "python",
   "name": "python3"
  },
  "language_info": {
   "codemirror_mode": {
    "name": "ipython",
    "version": 3
   },
   "file_extension": ".py",
   "mimetype": "text/x-python",
   "name": "python",
   "nbconvert_exporter": "python",
   "pygments_lexer": "ipython3",
   "version": "3.7.7"
  }
 },
 "nbformat": 4,
 "nbformat_minor": 5
}
